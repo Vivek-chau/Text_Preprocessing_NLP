{
 "cells": [
  {
   "cell_type": "markdown",
   "id": "d5ca7d95-48cc-4336-b01f-43a0ff229bbf",
   "metadata": {},
   "source": [
    "## Wordnet Lemmatizer"
   ]
  },
  {
   "cell_type": "code",
   "execution_count": 1,
   "id": "df3ec91e-fc77-4881-9e73-6e7d37167e18",
   "metadata": {},
   "outputs": [
    {
     "name": "stderr",
     "output_type": "stream",
     "text": [
      "[nltk_data] Downloading package wordnet to\n",
      "[nltk_data]     C:\\Users\\91987\\AppData\\Roaming\\nltk_data...\n",
      "[nltk_data]   Package wordnet is already up-to-date!\n"
     ]
    },
    {
     "data": {
      "text/plain": [
       "True"
      ]
     },
     "execution_count": 1,
     "metadata": {},
     "output_type": "execute_result"
    }
   ],
   "source": [
    "import nltk\n",
    "nltk.download('wordnet')"
   ]
  },
  {
   "cell_type": "code",
   "execution_count": 2,
   "id": "5246c4ae-ebd1-48f5-9f12-cb8d758e9744",
   "metadata": {},
   "outputs": [],
   "source": [
    "## where we can use lemmatization-- Q&A, chatbots, text summarization\n",
    "\n",
    "from nltk.stem import WordNetLemmatizer"
   ]
  },
  {
   "cell_type": "code",
   "execution_count": 3,
   "id": "2cba44f1-ead2-43b0-ab08-53262d480d07",
   "metadata": {},
   "outputs": [],
   "source": [
    "lematizer = WordNetLemmatizer()"
   ]
  },
  {
   "cell_type": "code",
   "execution_count": 4,
   "id": "c83fa04b-7e63-4500-b78d-67bd09cfaab2",
   "metadata": {},
   "outputs": [
    {
     "data": {
      "text/plain": [
       "'go'"
      ]
     },
     "execution_count": 4,
     "metadata": {},
     "output_type": "execute_result"
    }
   ],
   "source": [
    "''' \n",
    "POS - Noun- n \n",
    "      Verb- v\n",
    "      adjective- a\n",
    "      adverb -r\n",
    "'''\n",
    "\n",
    "lematizer.lemmatize('goes' ,pos='v')"
   ]
  },
  {
   "cell_type": "code",
   "execution_count": 5,
   "id": "5234e785-2405-4966-8e8b-1d9871e157ac",
   "metadata": {},
   "outputs": [],
   "source": [
    "words= ['eating','eats','eaten','writing','writes','programming','programs','history']"
   ]
  },
  {
   "cell_type": "code",
   "execution_count": 6,
   "id": "4dab3ac0-745d-426a-a177-e46c6ffe6503",
   "metadata": {},
   "outputs": [
    {
     "name": "stdout",
     "output_type": "stream",
     "text": [
      "eating-->eat\n",
      "eats-->eat\n",
      "eaten-->eat\n",
      "writing-->write\n",
      "writes-->write\n",
      "programming-->program\n",
      "programs-->program\n",
      "history-->history\n"
     ]
    }
   ],
   "source": [
    "for word in words:\n",
    "    print(word+\"-->\"+lematizer.lemmatize(word,pos='v'))"
   ]
  },
  {
   "cell_type": "code",
   "execution_count": null,
   "id": "9aebdadc-410b-44e4-85a1-cdd5349d648e",
   "metadata": {},
   "outputs": [],
   "source": []
  }
 ],
 "metadata": {
  "kernelspec": {
   "display_name": "Python 3 (ipykernel)",
   "language": "python",
   "name": "python3"
  },
  "language_info": {
   "codemirror_mode": {
    "name": "ipython",
    "version": 3
   },
   "file_extension": ".py",
   "mimetype": "text/x-python",
   "name": "python",
   "nbconvert_exporter": "python",
   "pygments_lexer": "ipython3",
   "version": "3.11.7"
  }
 },
 "nbformat": 4,
 "nbformat_minor": 5
}
