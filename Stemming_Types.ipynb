{
 "cells": [
  {
   "cell_type": "code",
   "execution_count": 5,
   "id": "cd3c17c8-7a41-4b9b-bbf1-abfdd8e611b9",
   "metadata": {},
   "outputs": [],
   "source": [
    "## Classification Problem\n",
    "# Comments of product is a positive review or negative review\n",
    "# Reviews --> eating, eat,eaten-- eat\n",
    "words=[\"eating\",\"eats\",\"eaten\",\"writing\",\"writes\",\"programming\",\"programs\",\"History\",\"finally\",\"finalized\"]\n"
   ]
  },
  {
   "cell_type": "markdown",
   "id": "cb04d719-91ce-4c41-a188-1495d5559477",
   "metadata": {},
   "source": [
    "## PorterStemmer technique"
   ]
  },
  {
   "cell_type": "markdown",
   "id": "1cadf249-72ee-4557-8288-0dc1dc179222",
   "metadata": {},
   "source": [
    "#### It uses a series of rules to iteratively reduce words to their root form."
   ]
  },
  {
   "cell_type": "code",
   "execution_count": 6,
   "id": "94bd34da-0d51-4a6b-8f68-e0698742cb27",
   "metadata": {},
   "outputs": [],
   "source": [
    "from nltk.stem import PorterStemmer\n"
   ]
  },
  {
   "cell_type": "code",
   "execution_count": 7,
   "id": "2efcac17-fdb4-45d9-b9cf-e411bc99b033",
   "metadata": {},
   "outputs": [],
   "source": [
    "stemming  = PorterStemmer()"
   ]
  },
  {
   "cell_type": "code",
   "execution_count": 8,
   "id": "1633c02c-7740-40f6-bfd6-5ece780fdd4a",
   "metadata": {},
   "outputs": [
    {
     "name": "stdout",
     "output_type": "stream",
     "text": [
      "eating--->eat\n",
      "eats--->eat\n",
      "eaten--->eaten\n",
      "writing--->write\n",
      "writes--->write\n",
      "programming--->program\n",
      "programs--->program\n",
      "History--->histori\n",
      "finally--->final\n",
      "finalized--->final\n"
     ]
    }
   ],
   "source": [
    "for word in words:\n",
    "    print(word+\"--->\"+stemming.stem(word))"
   ]
  },
  {
   "cell_type": "code",
   "execution_count": 9,
   "id": "3e2aa2b8-29d8-4266-b0c9-1cef0a9173d0",
   "metadata": {},
   "outputs": [
    {
     "data": {
      "text/plain": [
       "'congratul'"
      ]
     },
     "execution_count": 9,
     "metadata": {},
     "output_type": "execute_result"
    }
   ],
   "source": [
    "# Disadv of stemming some times it gives us words which has no meaning.\n",
    "stemming.stem(\"congratulations\")"
   ]
  },
  {
   "cell_type": "code",
   "execution_count": 10,
   "id": "4b8647be-e025-4220-a8e2-cf2018bbeb23",
   "metadata": {},
   "outputs": [
    {
     "data": {
      "text/plain": [
       "'sit'"
      ]
     },
     "execution_count": 10,
     "metadata": {},
     "output_type": "execute_result"
    }
   ],
   "source": [
    "stemming.stem(\"sitting\")"
   ]
  },
  {
   "cell_type": "markdown",
   "id": "b13455be-8584-453c-8504-752e26230b09",
   "metadata": {},
   "source": [
    "## Regexp Stemmer"
   ]
  },
  {
   "cell_type": "markdown",
   "id": "43a39ea0-16b6-4601-aaed-6b53b09d3aac",
   "metadata": {},
   "source": [
    "#### The Regexp Stemmer uses regular expressions to perform stemming. \n",
    "#### It can be customized with different patterns to handle specific cases or domains.\n",
    "#### It Basically takes a singular regular expression and removes any prefix or suffix that matches the expression."
   ]
  },
  {
   "cell_type": "code",
   "execution_count": 13,
   "id": "452f4c82-40a6-49d6-8fa0-19fec1904df0",
   "metadata": {},
   "outputs": [],
   "source": [
    "from nltk.stem import RegexpStemmer"
   ]
  },
  {
   "cell_type": "code",
   "execution_count": 14,
   "id": "d6e23de3-a868-4cd1-be4e-57502f43f7ce",
   "metadata": {},
   "outputs": [],
   "source": [
    "reg_stemmer=RegexpStemmer('ing$|s$|e$|able$', min=4)"
   ]
  },
  {
   "cell_type": "code",
   "execution_count": 17,
   "id": "74cf35a6-fdce-430b-826b-86efd8bcd4d9",
   "metadata": {},
   "outputs": [
    {
     "data": {
      "text/plain": [
       "'eat'"
      ]
     },
     "execution_count": 17,
     "metadata": {},
     "output_type": "execute_result"
    }
   ],
   "source": [
    "reg_stemmer.stem('eating')"
   ]
  },
  {
   "cell_type": "code",
   "execution_count": 15,
   "id": "a81c7fc2-a244-4b70-ae42-88b214227490",
   "metadata": {},
   "outputs": [
    {
     "data": {
      "text/plain": [
       "'runn'"
      ]
     },
     "execution_count": 15,
     "metadata": {},
     "output_type": "execute_result"
    }
   ],
   "source": [
    "reg_stemmer.stem('running')"
   ]
  },
  {
   "cell_type": "markdown",
   "id": "005da8b5-7056-4408-84bb-fdfb8ca3fe0f",
   "metadata": {},
   "source": [
    "## Snowball Stemmer"
   ]
  },
  {
   "cell_type": "markdown",
   "id": "0e9a3200-3e8d-4079-8b8c-31ea6696f5d0",
   "metadata": {},
   "source": [
    "#### It is a improved version of the Porter Stemmer."
   ]
  },
  {
   "cell_type": "code",
   "execution_count": 18,
   "id": "88e3ed97-6d44-499d-9aba-e36e756107d7",
   "metadata": {},
   "outputs": [],
   "source": [
    "from nltk.stem import SnowballStemmer"
   ]
  },
  {
   "cell_type": "code",
   "execution_count": 19,
   "id": "d8b07d38-701c-45d8-8880-749975450354",
   "metadata": {},
   "outputs": [],
   "source": [
    "stemmer = SnowballStemmer('english')\n"
   ]
  },
  {
   "cell_type": "code",
   "execution_count": 21,
   "id": "e3580a1b-83d3-4576-9bb7-c915b6ebcc04",
   "metadata": {},
   "outputs": [
    {
     "name": "stdout",
     "output_type": "stream",
     "text": [
      "eating--->eat\n",
      "eats--->eat\n",
      "eaten--->eaten\n",
      "writing--->write\n",
      "writes--->write\n",
      "programming--->program\n",
      "programs--->program\n",
      "History--->histori\n",
      "finally--->final\n",
      "finalized--->final\n"
     ]
    }
   ],
   "source": [
    "for word in words:\n",
    "    print(word+\"--->\"+stemmer.stem(word))"
   ]
  },
  {
   "cell_type": "markdown",
   "id": "0fc4729a-c822-4cb6-80e9-490c79be0eb8",
   "metadata": {},
   "source": [
    "#### Porter Stemmer vs Snowball Stemmer difference"
   ]
  },
  {
   "cell_type": "code",
   "execution_count": 23,
   "id": "b7df5917-97a6-40af-a150-48acfb12ecfa",
   "metadata": {},
   "outputs": [
    {
     "data": {
      "text/plain": [
       "('fairli', 'sportingli')"
      ]
     },
     "execution_count": 23,
     "metadata": {},
     "output_type": "execute_result"
    }
   ],
   "source": [
    "stemming.stem('fairly'), stemming.stem('sportingly') # porter\n"
   ]
  },
  {
   "cell_type": "code",
   "execution_count": 24,
   "id": "43040ead-c7e6-4109-804f-540ac2c118ba",
   "metadata": {},
   "outputs": [
    {
     "data": {
      "text/plain": [
       "('fair', 'sport')"
      ]
     },
     "execution_count": 24,
     "metadata": {},
     "output_type": "execute_result"
    }
   ],
   "source": [
    "stemmer.stem('fairly'), stemmer.stem('sportingly') # Snowball"
   ]
  },
  {
   "cell_type": "code",
   "execution_count": null,
   "id": "287e7c0f-9873-47cf-9b7e-e340fac82507",
   "metadata": {},
   "outputs": [],
   "source": []
  }
 ],
 "metadata": {
  "kernelspec": {
   "display_name": "Python 3 (ipykernel)",
   "language": "python",
   "name": "python3"
  },
  "language_info": {
   "codemirror_mode": {
    "name": "ipython",
    "version": 3
   },
   "file_extension": ".py",
   "mimetype": "text/x-python",
   "name": "python",
   "nbconvert_exporter": "python",
   "pygments_lexer": "ipython3",
   "version": "3.11.7"
  }
 },
 "nbformat": 4,
 "nbformat_minor": 5
}
